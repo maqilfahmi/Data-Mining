{
  "nbformat": 4,
  "nbformat_minor": 0,
  "metadata": {
    "colab": {
      "provenance": []
    },
    "kernelspec": {
      "name": "python3",
      "display_name": "Python 3"
    },
    "language_info": {
      "name": "python"
    }
  },
  "cells": [
    {
      "cell_type": "code",
      "execution_count": 2,
      "metadata": {
        "id": "VBib-DwR6YVM",
        "colab": {
          "base_uri": "https://localhost:8080/"
        },
        "outputId": "0d7995e5-c50b-4c8c-be5e-2c78f811ea21"
      },
      "outputs": [
        {
          "output_type": "stream",
          "name": "stdout",
          "text": [
            "   RowNumber  CustomerId   Surname  CreditScore Geography  Gender  Age  \\\n",
            "0          1    15634602  Hargrave          619    France  Female   42   \n",
            "1          2    15647311      Hill          608     Spain  Female   41   \n",
            "2          3    15619304      Onio          502    France  Female   42   \n",
            "3          4    15701354      Boni          699    France  Female   39   \n",
            "4          5    15737888  Mitchell          850     Spain  Female   43   \n",
            "\n",
            "   Tenure    Balance  NumOfProducts  HasCrCard  IsActiveMember  \\\n",
            "0       2       0.00              1          1               1   \n",
            "1       1   83807.86              1          0               1   \n",
            "2       8  159660.80              3          1               0   \n",
            "3       1       0.00              2          0               0   \n",
            "4       2  125510.82              1          1               1   \n",
            "\n",
            "   EstimatedSalary  Exited  Complain  Satisfaction Score Card Type  \\\n",
            "0        101348.88       1         1                   2   DIAMOND   \n",
            "1        112542.58       0         1                   3   DIAMOND   \n",
            "2        113931.57       1         1                   3   DIAMOND   \n",
            "3         93826.63       0         0                   5      GOLD   \n",
            "4         79084.10       0         0                   5      GOLD   \n",
            "\n",
            "   Point Earned  \n",
            "0           464  \n",
            "1           456  \n",
            "2           377  \n",
            "3           350  \n",
            "4           425  \n",
            "Akurasi model: 99.70%\n"
          ]
        }
      ],
      "source": [
        "# Import library yang diperlukan\n",
        "import pandas as pd\n",
        "from sklearn.model_selection import train_test_split\n",
        "from sklearn.tree import DecisionTreeClassifier\n",
        "from sklearn.metrics import accuracy_score\n",
        "from sklearn.preprocessing import LabelEncoder\n",
        "\n",
        "# Memuat data\n",
        "data = pd.read_csv('ccr.csv')\n",
        "\n",
        "# Menampilkan beberapa baris awal\n",
        "print(data.head())\n",
        "\n",
        "# Mengecek kolom-kolom kategorikal yang perlu diubah menjadi numerik\n",
        "categorical_columns = ['Geography', 'Gender', 'Card Type']\n",
        "\n",
        "# Menggunakan LabelEncoder untuk kolom kategorikal\n",
        "label_encoders = {}\n",
        "for column in categorical_columns:\n",
        "    label_encoders[column] = LabelEncoder()\n",
        "    data[column] = label_encoders[column].fit_transform(data[column])\n",
        "\n",
        "# Memisahkan fitur dan target\n",
        "X = data.drop(columns=['Exited', 'RowNumber', 'CustomerId', 'Surname'])  # Menghapus kolom yang tidak relevan\n",
        "y = data['Exited']\n",
        "\n",
        "# Membagi dataset menjadi data training dan testing\n",
        "X_train, X_test, y_train, y_test = train_test_split(X, y, test_size=0.2, random_state=42)\n",
        "\n",
        "# Inisialisasi model Decision Tree\n",
        "clf = DecisionTreeClassifier(random_state=42)\n",
        "\n",
        "# Melatih model\n",
        "clf.fit(X_train, y_train)\n",
        "\n",
        "# Prediksi dengan data testing\n",
        "y_pred = clf.predict(X_test)\n",
        "\n",
        "# Mengevaluasi model\n",
        "accuracy = accuracy_score(y_test, y_pred)\n",
        "print(f\"Akurasi model: {accuracy * 100:.2f}%\")\n"
      ]
    }
  ]
}